{
  "metadata": {
    "kernelspec": {
      "language": "python",
      "display_name": "Python 3",
      "name": "python3"
    },
    "language_info": {
      "name": "python",
      "version": "3.10.13",
      "mimetype": "text/x-python",
      "codemirror_mode": {
        "name": "ipython",
        "version": 3
      },
      "pygments_lexer": "ipython3",
      "nbconvert_exporter": "python",
      "file_extension": ".py"
    },
    "kaggle": {
      "accelerator": "none",
      "dataSources": [
        {
          "sourceId": 3004,
          "databundleVersionId": 861823,
          "sourceType": "competition"
        }
      ],
      "dockerImageVersionId": 30673,
      "isInternetEnabled": true,
      "language": "python",
      "sourceType": "notebook",
      "isGpuEnabled": false
    },
    "colab": {
      "name": "Digit Recognizer with keras",
      "provenance": [],
      "include_colab_link": true
    }
  },
  "nbformat_minor": 0,
  "nbformat": 4,
  "cells": [
    {
      "cell_type": "markdown",
      "metadata": {
        "id": "view-in-github",
        "colab_type": "text"
      },
      "source": [
        "<a href=\"https://colab.research.google.com/github/Harishram18/Naan_Mudhalvan_Digit_Recognizer/blob/main/Digit_Recognizer_with_keras.ipynb\" target=\"_parent\"><img src=\"https://colab.research.google.com/assets/colab-badge.svg\" alt=\"Open In Colab\"/></a>"
      ]
    },
    {
      "cell_type": "code",
      "source": [
        "\n",
        "\n",
        "import numpy as np\n",
        "import pandas as pd\n",
        "import os\n",
        "for dirname, _, filenames in os.walk('/kaggle/input'):\n",
        "    for filename in filenames:\n",
        "        print(os.path.join(dirname, filename))\n",
        "\n"
      ],
      "metadata": {
        "_uuid": "8f2839f25d086af736a60e9eeb907d3b93b6e0e5",
        "_cell_guid": "b1076dfc-b9ad-4769-8c92-a6c4dae69d19",
        "execution": {
          "iopub.status.busy": "2024-03-30T09:13:19.30242Z",
          "iopub.execute_input": "2024-03-30T09:13:19.302784Z",
          "iopub.status.idle": "2024-03-30T09:13:20.577513Z",
          "shell.execute_reply.started": "2024-03-30T09:13:19.302754Z",
          "shell.execute_reply": "2024-03-30T09:13:20.57639Z"
        },
        "trusted": true,
        "id": "0e5dO65xujFE",
        "outputId": "47cd02f0-6ff9-41aa-9f91-7d8f8de98732",
        "colab": {
          "base_uri": "https://localhost:8080/"
        }
      },
      "execution_count": 2,
      "outputs": [
        {
          "output_type": "stream",
          "name": "stdout",
          "text": [
            "/kaggle/input/digit-recognizer/train.csv\n",
            "/kaggle/input/digit-recognizer/test.csv\n",
            "/kaggle/input/digit-recognizer/sample_submission.csv\n"
          ]
        }
      ]
    },
    {
      "cell_type": "code",
      "source": [
        "import tensorflow\n",
        "from tensorflow import keras\n",
        "from tensorflow.keras import Sequential\n",
        "from tensorflow.keras.layers import Dense, Flatten"
      ],
      "metadata": {
        "execution": {
          "iopub.status.busy": "2024-03-30T09:15:21.903699Z",
          "iopub.execute_input": "2024-03-30T09:15:21.904412Z",
          "iopub.status.idle": "2024-03-30T09:15:36.887019Z",
          "shell.execute_reply.started": "2024-03-30T09:15:21.904375Z",
          "shell.execute_reply": "2024-03-30T09:15:36.885755Z"
        },
        "trusted": true,
        "id": "nmVHcP0TujFF"
      },
      "execution_count": 3,
      "outputs": []
    },
    {
      "cell_type": "code",
      "source": [
        "(X_train,y_train),(X_test,y_test) = keras.datasets.mnist.load_data()"
      ],
      "metadata": {
        "execution": {
          "iopub.status.busy": "2024-03-30T09:15:47.027967Z",
          "iopub.execute_input": "2024-03-30T09:15:47.029359Z",
          "iopub.status.idle": "2024-03-30T09:15:47.630632Z",
          "shell.execute_reply.started": "2024-03-30T09:15:47.029296Z",
          "shell.execute_reply": "2024-03-30T09:15:47.629077Z"
        },
        "trusted": true,
        "id": "1dP5glggujFG",
        "outputId": "f87b7967-34bb-4a66-e24b-4cbd1f98435f",
        "colab": {
          "base_uri": "https://localhost:8080/"
        }
      },
      "execution_count": 4,
      "outputs": [
        {
          "output_type": "stream",
          "name": "stdout",
          "text": [
            "Downloading data from https://storage.googleapis.com/tensorflow/tf-keras-datasets/mnist.npz\n",
            "11490434/11490434 [==============================] - 0s 0us/step\n"
          ]
        }
      ]
    },
    {
      "cell_type": "code",
      "source": [
        "import matplotlib.pyplot as plt\n",
        "plt.imshow(X_train[11])"
      ],
      "metadata": {
        "execution": {
          "iopub.status.busy": "2024-03-30T09:16:27.717216Z",
          "iopub.execute_input": "2024-03-30T09:16:27.717652Z",
          "iopub.status.idle": "2024-03-30T09:16:28.10507Z",
          "shell.execute_reply.started": "2024-03-30T09:16:27.717618Z",
          "shell.execute_reply": "2024-03-30T09:16:28.103468Z"
        },
        "trusted": true,
        "id": "c-Ww2A49ujFG",
        "outputId": "9a95fd0f-7239-4866-f9ff-bc2176e2ee96",
        "colab": {
          "base_uri": "https://localhost:8080/",
          "height": 447
        }
      },
      "execution_count": 33,
      "outputs": [
        {
          "output_type": "execute_result",
          "data": {
            "text/plain": [
              "<matplotlib.image.AxesImage at 0x7c654304f460>"
            ]
          },
          "metadata": {},
          "execution_count": 33
        },
        {
          "output_type": "display_data",
          "data": {
            "text/plain": [
              "<Figure size 640x480 with 1 Axes>"
            ],
            "image/png": "[encoded data removed]"
          },
          "metadata": {}
        }
      ]
    },
    {
      "cell_type": "code",
      "source": [
        "X_train = X_train/255\n",
        "X_test = X_test/255"
      ],
      "metadata": {
        "execution": {
          "iopub.status.busy": "2024-03-30T09:16:49.182841Z",
          "iopub.execute_input": "2024-03-30T09:16:49.183378Z",
          "iopub.status.idle": "2024-03-30T09:16:49.493791Z",
          "shell.execute_reply.started": "2024-03-30T09:16:49.18334Z",
          "shell.execute_reply": "2024-03-30T09:16:49.492284Z"
        },
        "trusted": true,
        "id": "nVCcHdy7ujFG"
      },
      "execution_count": 6,
      "outputs": []
    },
    {
      "cell_type": "code",
      "source": [
        "model = Sequential()\n",
        "model.add(Flatten(input_shape=(28,28)))\n",
        "model.add(Dense(128,activation='relu'))\n",
        "model.add(Dense(10,activation='softmax'))"
      ],
      "metadata": {
        "execution": {
          "iopub.status.busy": "2024-03-30T09:17:21.162937Z",
          "iopub.execute_input": "2024-03-30T09:17:21.164347Z",
          "iopub.status.idle": "2024-03-30T09:17:21.276457Z",
          "shell.execute_reply.started": "2024-03-30T09:17:21.164257Z",
          "shell.execute_reply": "2024-03-30T09:17:21.275241Z"
        },
        "trusted": true,
        "id": "2EOBiHFuujFG"
      },
      "execution_count": 7,
      "outputs": []
    },
    {
      "cell_type": "code",
      "source": [
        "model.summary()"
      ],
      "metadata": {
        "execution": {
          "iopub.status.busy": "2024-03-30T09:17:35.491888Z",
          "iopub.execute_input": "2024-03-30T09:17:35.492302Z",
          "iopub.status.idle": "2024-03-30T09:17:35.518587Z",
          "shell.execute_reply.started": "2024-03-30T09:17:35.492269Z",
          "shell.execute_reply": "2024-03-30T09:17:35.516938Z"
        },
        "trusted": true,
        "id": "GAWwVrYKujFG",
        "outputId": "40f5a157-5431-4a2f-fa45-3adaa1a93f9f",
        "colab": {
          "base_uri": "https://localhost:8080/"
        }
      },
      "execution_count": 8,
      "outputs": [
        {
          "output_type": "stream",
          "name": "stdout",
          "text": [
            "Model: \"sequential\"\n",
            "_________________________________________________________________\n",
            " Layer (type)                Output Shape              Param #   \n",
            "=================================================================\n",
            " flatten (Flatten)           (None, 784)               0         \n",
            "                                                                 \n",
            " dense (Dense)               (None, 128)               100480    \n",
            "                                                                 \n",
            " dense_1 (Dense)             (None, 10)                1290      \n",
            "                                                                 \n",
            "=================================================================\n",
            "Total params: 101770 (397.54 KB)\n",
            "Trainable params: 101770 (397.54 KB)\n",
            "Non-trainable params: 0 (0.00 Byte)\n",
            "_________________________________________________________________\n"
          ]
        }
      ]
    },
    {
      "cell_type": "code",
      "source": [
        "model.compile(loss='sparse_categorical_crossentropy',optimizer='Adam',metrics=['accuracy'])"
      ],
      "metadata": {
        "execution": {
          "iopub.status.busy": "2024-03-30T09:17:57.870181Z",
          "iopub.execute_input": "2024-03-30T09:17:57.870801Z",
          "iopub.status.idle": "2024-03-30T09:17:57.886606Z",
          "shell.execute_reply.started": "2024-03-30T09:17:57.87077Z",
          "shell.execute_reply": "2024-03-30T09:17:57.88562Z"
        },
        "trusted": true,
        "id": "m9DOO0qbujFG"
      },
      "execution_count": 9,
      "outputs": []
    },
    {
      "cell_type": "code",
      "source": [
        "history = model.fit(X_train,y_train,epochs=15,validation_split=0.2)"
      ],
      "metadata": {
        "execution": {
          "iopub.status.busy": "2024-03-30T09:20:35.53319Z",
          "iopub.execute_input": "2024-03-30T09:20:35.534665Z",
          "iopub.status.idle": "2024-03-30T09:24:34.572854Z",
          "shell.execute_reply.started": "2024-03-30T09:20:35.534616Z",
          "shell.execute_reply": "2024-03-30T09:24:34.571134Z"
        },
        "trusted": true,
        "id": "1xvinvM7ujFG",
        "outputId": "c7861904-5efd-4544-e9e2-3bff19050484",
        "colab": {
          "base_uri": "https://localhost:8080/"
        }
      },
      "execution_count": 11,
      "outputs": [
        {
          "output_type": "stream",
          "name": "stdout",
          "text": [
            "Epoch 1/15\n",
            "1500/1500 [==============================] - 12s 8ms/step - loss: 0.0431 - accuracy: 0.9864 - val_loss: 0.0944 - val_accuracy: 0.9722\n",
            "Epoch 2/15\n",
            "1500/1500 [==============================] - 6s 4ms/step - loss: 0.0333 - accuracy: 0.9897 - val_loss: 0.0915 - val_accuracy: 0.9747\n",
            "Epoch 3/15\n",
            "1500/1500 [==============================] - 6s 4ms/step - loss: 0.0276 - accuracy: 0.9919 - val_loss: 0.1123 - val_accuracy: 0.9708\n",
            "Epoch 4/15\n",
            "1500/1500 [==============================] - 5s 3ms/step - loss: 0.0217 - accuracy: 0.9939 - val_loss: 0.1036 - val_accuracy: 0.9727\n",
            "Epoch 5/15\n",
            "1500/1500 [==============================] - 6s 4ms/step - loss: 0.0200 - accuracy: 0.9938 - val_loss: 0.1006 - val_accuracy: 0.9758\n",
            "Epoch 6/15\n",
            "1500/1500 [==============================] - 5s 3ms/step - loss: 0.0157 - accuracy: 0.9954 - val_loss: 0.1093 - val_accuracy: 0.9731\n",
            "Epoch 7/15\n",
            "1500/1500 [==============================] - 5s 3ms/step - loss: 0.0126 - accuracy: 0.9965 - val_loss: 0.1017 - val_accuracy: 0.9745\n",
            "Epoch 8/15\n",
            "1500/1500 [==============================] - 6s 4ms/step - loss: 0.0119 - accuracy: 0.9964 - val_loss: 0.1076 - val_accuracy: 0.9728\n",
            "Epoch 9/15\n",
            "1500/1500 [==============================] - 4s 3ms/step - loss: 0.0094 - accuracy: 0.9973 - val_loss: 0.0964 - val_accuracy: 0.9776\n",
            "Epoch 10/15\n",
            "1500/1500 [==============================] - 6s 4ms/step - loss: 0.0085 - accuracy: 0.9973 - val_loss: 0.1099 - val_accuracy: 0.9762\n",
            "Epoch 11/15\n",
            "1500/1500 [==============================] - 5s 3ms/step - loss: 0.0076 - accuracy: 0.9980 - val_loss: 0.1133 - val_accuracy: 0.9772\n",
            "Epoch 12/15\n",
            "1500/1500 [==============================] - 6s 4ms/step - loss: 0.0071 - accuracy: 0.9978 - val_loss: 0.1093 - val_accuracy: 0.9772\n",
            "Epoch 13/15\n",
            "1500/1500 [==============================] - 5s 3ms/step - loss: 0.0065 - accuracy: 0.9984 - val_loss: 0.1167 - val_accuracy: 0.9742\n",
            "Epoch 14/15\n",
            "1500/1500 [==============================] - 5s 3ms/step - loss: 0.0053 - accuracy: 0.9985 - val_loss: 0.1145 - val_accuracy: 0.9758\n",
            "Epoch 15/15\n",
            "1500/1500 [==============================] - 6s 4ms/step - loss: 0.0076 - accuracy: 0.9975 - val_loss: 0.1149 - val_accuracy: 0.9771\n"
          ]
        }
      ]
    },
    {
      "cell_type": "code",
      "source": [
        "y_pb = model.predict(X_test)"
      ],
      "metadata": {
        "execution": {
          "iopub.status.busy": "2024-03-30T09:27:54.833584Z",
          "iopub.execute_input": "2024-03-30T09:27:54.834138Z",
          "iopub.status.idle": "2024-03-30T09:27:56.208158Z",
          "shell.execute_reply.started": "2024-03-30T09:27:54.834086Z",
          "shell.execute_reply": "2024-03-30T09:27:56.206652Z"
        },
        "trusted": true,
        "id": "j8OkrsUXujFH",
        "outputId": "3f090e0c-3a3a-4ccf-ecc5-4d695c74310a",
        "colab": {
          "base_uri": "https://localhost:8080/"
        }
      },
      "execution_count": 12,
      "outputs": [
        {
          "output_type": "stream",
          "name": "stdout",
          "text": [
            "313/313 [==============================] - 1s 1ms/step\n"
          ]
        }
      ]
    },
    {
      "cell_type": "code",
      "source": [
        "y_pd = y_pb.argmax(axis=1)"
      ],
      "metadata": {
        "execution": {
          "iopub.status.busy": "2024-03-30T09:28:23.407639Z",
          "iopub.execute_input": "2024-03-30T09:28:23.40924Z",
          "iopub.status.idle": "2024-03-30T09:28:23.41457Z",
          "shell.execute_reply.started": "2024-03-30T09:28:23.409168Z",
          "shell.execute_reply": "2024-03-30T09:28:23.413178Z"
        },
        "trusted": true,
        "id": "5E8s9Jg5ujFH"
      },
      "execution_count": 13,
      "outputs": []
    },
    {
      "cell_type": "code",
      "source": [
        "from sklearn.metrics import accuracy_score\n",
        "accuracy_score(y_test,y_pd)"
      ],
      "metadata": {
        "execution": {
          "iopub.status.busy": "2024-03-30T09:28:50.727913Z",
          "iopub.execute_input": "2024-03-30T09:28:50.72845Z",
          "iopub.status.idle": "2024-03-30T09:28:51.971645Z",
          "shell.execute_reply.started": "2024-03-30T09:28:50.728413Z",
          "shell.execute_reply": "2024-03-30T09:28:51.970335Z"
        },
        "trusted": true,
        "id": "pG-LxQXiujFH",
        "outputId": "a6884f64-60ce-4d79-d3fa-90af90f12641",
        "colab": {
          "base_uri": "https://localhost:8080/"
        }
      },
      "execution_count": 14,
      "outputs": [
        {
          "output_type": "execute_result",
          "data": {
            "text/plain": [
              "0.9801"
            ]
          },
          "metadata": {},
          "execution_count": 14
        }
      ]
    },
    {
      "cell_type": "code",
      "source": [
        "plt.plot(history.history['accuracy'])\n",
        "plt.plot(history.history['val_accuracy'])"
      ],
      "metadata": {
        "execution": {
          "iopub.status.busy": "2024-03-30T09:29:18.998131Z",
          "iopub.execute_input": "2024-03-30T09:29:18.998989Z",
          "iopub.status.idle": "2024-03-30T09:29:19.309791Z",
          "shell.execute_reply.started": "2024-03-30T09:29:18.998941Z",
          "shell.execute_reply": "2024-03-30T09:29:19.308152Z"
        },
        "trusted": true,
        "id": "a8v7UomCujFH",
        "outputId": "0b95d90f-4a76-423b-d1a5-f0512d27f1fe",
        "colab": {
          "base_uri": "https://localhost:8080/",
          "height": 447
        }
      },
      "execution_count": 15,
      "outputs": [
        {
          "output_type": "execute_result",
          "data": {
            "text/plain": [
              "[<matplotlib.lines.Line2D at 0x7c6541ab4880>]"
            ]
          },
          "metadata": {},
          "execution_count": 15
        },
        {
          "output_type": "display_data",
          "data": {
            "text/plain": [
              "<Figure size 640x480 with 1 Axes>"
            ],
            "image/png": "[encoded data removed]"
          },
          "metadata": {}
        }
      ]
    },
    {
      "cell_type": "code",
      "source": [
        "plt.imshow(X_test[7])"
      ],
      "metadata": {
        "execution": {
          "iopub.status.busy": "2024-03-30T09:30:49.842679Z",
          "iopub.execute_input": "2024-03-30T09:30:49.843146Z",
          "iopub.status.idle": "2024-03-30T09:30:50.141433Z",
          "shell.execute_reply.started": "2024-03-30T09:30:49.843111Z",
          "shell.execute_reply": "2024-03-30T09:30:50.14021Z"
        },
        "trusted": true,
        "id": "MmQpmPhgujFH",
        "outputId": "79d61a0c-62f3-49e9-a530-81e4ba0a1121",
        "colab": {
          "base_uri": "https://localhost:8080/",
          "height": 447
        }
      },
      "execution_count": 31,
      "outputs": [
        {
          "output_type": "execute_result",
          "data": {
            "text/plain": [
              "<matplotlib.image.AxesImage at 0x7c654324b460>"
            ]
          },
          "metadata": {},
          "execution_count": 31
        },
        {
          "output_type": "display_data",
          "data": {
            "text/plain": [
              "<Figure size 640x480 with 1 Axes>"
            ],
            "image/png": "[encoded data removed]"
          },
          "metadata": {}
        }
      ]
    },
    {
      "cell_type": "code",
      "source": [
        "model.predict(X_test[7].reshape(1,28,28)).argmax(axis=1)"
      ],
      "metadata": {
        "execution": {
          "iopub.status.busy": "2024-03-30T09:30:54.057497Z",
          "iopub.execute_input": "2024-03-30T09:30:54.057908Z",
          "iopub.status.idle": "2024-03-30T09:30:54.146502Z",
          "shell.execute_reply.started": "2024-03-30T09:30:54.057876Z",
          "shell.execute_reply": "2024-03-30T09:30:54.145479Z"
        },
        "trusted": true,
        "id": "iH_S23AiujFH",
        "outputId": "daf1c8f0-410f-42b3-904c-26170580c597",
        "colab": {
          "base_uri": "https://localhost:8080/"
        }
      },
      "execution_count": 32,
      "outputs": [
        {
          "output_type": "stream",
          "name": "stdout",
          "text": [
            "1/1 [==============================] - 0s 20ms/step\n"
          ]
        },
        {
          "output_type": "execute_result",
          "data": {
            "text/plain": [
              "array([9])"
            ]
          },
          "metadata": {},
          "execution_count": 32
        }
      ]
    },
    {
      "cell_type": "code",
      "source": [
        "test=pd.read_csv('/kaggle/input/digit-recognizer/test.csv')\n",
        "test_values = test.values"
      ],
      "metadata": {
        "execution": {
          "iopub.status.busy": "2024-03-30T09:31:19.487588Z",
          "iopub.execute_input": "2024-03-30T09:31:19.488316Z",
          "iopub.status.idle": "2024-03-30T09:31:22.333751Z",
          "shell.execute_reply.started": "2024-03-30T09:31:19.488272Z",
          "shell.execute_reply": "2024-03-30T09:31:22.33276Z"
        },
        "trusted": true,
        "id": "Me8wbYp2ujFH"
      },
      "execution_count": 18,
      "outputs": []
    },
    {
      "cell_type": "code",
      "source": [
        "print(test_values.shape)\n",
        "print(X_test.shape)"
      ],
      "metadata": {
        "execution": {
          "iopub.status.busy": "2024-03-30T09:31:45.935871Z",
          "iopub.execute_input": "2024-03-30T09:31:45.936298Z",
          "iopub.status.idle": "2024-03-30T09:31:45.941763Z",
          "shell.execute_reply.started": "2024-03-30T09:31:45.936266Z",
          "shell.execute_reply": "2024-03-30T09:31:45.940596Z"
        },
        "trusted": true,
        "id": "hQFZD9LQujFH",
        "outputId": "dbdeef97-c9aa-4244-ccfa-dc65113f1075",
        "colab": {
          "base_uri": "https://localhost:8080/"
        }
      },
      "execution_count": 19,
      "outputs": [
        {
          "output_type": "stream",
          "name": "stdout",
          "text": [
            "(28000, 784)\n",
            "(10000, 28, 28)\n"
          ]
        }
      ]
    },
    {
      "cell_type": "code",
      "source": [
        "test_values_reshaped = test_values.reshape(28000, 28, 28)\n",
        "test_values_reshaped.shape"
      ],
      "metadata": {
        "execution": {
          "iopub.status.busy": "2024-03-30T09:31:55.035522Z",
          "iopub.execute_input": "2024-03-30T09:31:55.03633Z",
          "iopub.status.idle": "2024-03-30T09:31:55.044718Z",
          "shell.execute_reply.started": "2024-03-30T09:31:55.036272Z",
          "shell.execute_reply": "2024-03-30T09:31:55.043809Z"
        },
        "trusted": true,
        "id": "AGaoGNlOujFI",
        "outputId": "d5e2542b-a7d7-4c13-8389-a8c544a7d1ec",
        "colab": {
          "base_uri": "https://localhost:8080/"
        }
      },
      "execution_count": 20,
      "outputs": [
        {
          "output_type": "execute_result",
          "data": {
            "text/plain": [
              "(28000, 28, 28)"
            ]
          },
          "metadata": {},
          "execution_count": 20
        }
      ]
    },
    {
      "cell_type": "code",
      "source": [
        "test_out = model.predict(test_values_reshaped)"
      ],
      "metadata": {
        "execution": {
          "iopub.status.busy": "2024-03-30T09:32:04.584141Z",
          "iopub.execute_input": "2024-03-30T09:32:04.585776Z",
          "iopub.status.idle": "2024-03-30T09:32:07.503752Z",
          "shell.execute_reply.started": "2024-03-30T09:32:04.58571Z",
          "shell.execute_reply": "2024-03-30T09:32:07.50233Z"
        },
        "trusted": true,
        "id": "QmeO2TVpujFI",
        "outputId": "99f51965-c6fd-4184-8b71-bd14a1c2b7f4",
        "colab": {
          "base_uri": "https://localhost:8080/"
        }
      },
      "execution_count": 21,
      "outputs": [
        {
          "output_type": "stream",
          "name": "stdout",
          "text": [
            "875/875 [==============================] - 1s 1ms/step\n"
          ]
        }
      ]
    },
    {
      "cell_type": "code",
      "source": [
        "y =test_out.argmax(axis=1)\n",
        "submission = pd.DataFrame(y, columns=['Label'])\n",
        "submission.index.name = 'ImageId'\n",
        "submission.index += 1\n",
        "submission.to_csv('/kaggle/working/submission.csv')\n",
        "print('Submission completed!')"
      ],
      "metadata": {
        "execution": {
          "iopub.status.busy": "2024-03-30T09:32:35.473379Z",
          "iopub.execute_input": "2024-03-30T09:32:35.473783Z",
          "iopub.status.idle": "2024-03-30T09:32:35.523641Z",
          "shell.execute_reply.started": "2024-03-30T09:32:35.473752Z",
          "shell.execute_reply": "2024-03-30T09:32:35.522247Z"
        },
        "trusted": true,
        "id": "J0af8zfvujFI",
        "outputId": "143b805e-4ef9-41ff-b664-3f41f9fdb768",
        "colab": {
          "base_uri": "https://localhost:8080/"
        }
      },
      "execution_count": 22,
      "outputs": [
        {
          "output_type": "stream",
          "name": "stdout",
          "text": [
            "Submission completed!\n"
          ]
        }
      ]
    }
  ]
}